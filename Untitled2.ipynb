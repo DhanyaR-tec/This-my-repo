{
  "nbformat": 4,
  "nbformat_minor": 0,
  "metadata": {
    "colab": {
      "provenance": []
    },
    "kernelspec": {
      "name": "python3",
      "display_name": "Python 3"
    },
    "language_info": {
      "name": "python"
    }
  },
  "cells": [
    {
      "cell_type": "code",
      "execution_count": null,
      "metadata": {
        "id": "p3oUH8ubVgbP"
      },
      "outputs": [],
      "source": []
    },
    {
      "cell_type": "code",
      "source": [
        "def square(x):\n",
        "    return x * x\n",
        "\n",
        "def increment(x):\n",
        "    return x + 1\n",
        "\n",
        "def composed_recur(y):\n",
        "    if y == 0:\n",
        "        return 1\n",
        "    return square(increment(composed_recur(y - 1)))\n",
        "\n",
        "print(composed_recur(8))"
      ],
      "metadata": {
        "colab": {
          "base_uri": "https://localhost:8080/"
        },
        "id": "YKXuz1kXViJW",
        "outputId": "e5ff3a55-df57-4be9-da0c-a8b1772e82f5"
      },
      "execution_count": 1,
      "outputs": [
        {
          "output_type": "stream",
          "name": "stdout",
          "text": [
            "3791862310265926082868235028027893277370233152247388584761734150717768254410341175325352025\n"
          ]
        }
      ]
    }
  ]
}